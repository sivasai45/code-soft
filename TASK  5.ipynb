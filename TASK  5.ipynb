{
 "cells": [
  {
   "cell_type": "markdown",
   "id": "4dc468da-24f2-4f85-9d0d-56ac55f09dbb",
   "metadata": {},
   "source": [
    "# CONTACT BOOK"
   ]
  },
  {
   "cell_type": "code",
   "execution_count": 1,
   "id": "bf472e1d-796e-4cee-9df0-deecbba36c1f",
   "metadata": {},
   "outputs": [
    {
     "name": "stdout",
     "output_type": "stream",
     "text": [
      "/n contact book app\n",
      "1.1.create contact\n",
      "2.2.view contact\n",
      "3.3.update contact\n",
      "4.4.delete contact\n",
      "5.5.search contact\n",
      "6.6.count contact\n",
      "7.7.exit\n"
     ]
    },
    {
     "name": "stdin",
     "output_type": "stream",
     "text": [
      "enter your choice 1.1\n",
      "enter your name= Rutuja Patil\n",
      "enter address= goa\n",
      "enter email= rutu123@gmail.com\n",
      "enter mobile no = 1234567890\n"
     ]
    },
    {
     "name": "stdout",
     "output_type": "stream",
     "text": [
      "contact name Rutuja Patil has been created successfully!\n",
      "/n contact book app\n",
      "1.1.create contact\n",
      "2.2.view contact\n",
      "3.3.update contact\n",
      "4.4.delete contact\n",
      "5.5.search contact\n",
      "6.6.count contact\n",
      "7.7.exit\n"
     ]
    },
    {
     "name": "stdin",
     "output_type": "stream",
     "text": [
      "enter your choice 1.1\n",
      "enter your name= Sarthak Patil\n",
      "enter address= Mumbai\n",
      "enter email= Sarthak123@gmail.com\n",
      "enter mobile no = 9876543210\n"
     ]
    },
    {
     "name": "stdout",
     "output_type": "stream",
     "text": [
      "contact name Sarthak Patil has been created successfully!\n",
      "/n contact book app\n",
      "1.1.create contact\n",
      "2.2.view contact\n",
      "3.3.update contact\n",
      "4.4.delete contact\n",
      "5.5.search contact\n",
      "6.6.count contact\n",
      "7.7.exit\n"
     ]
    },
    {
     "name": "stdin",
     "output_type": "stream",
     "text": [
      "enter your choice 1.1\n",
      "enter your name= Rekha Patil\n",
      "enter address= Jaipur\n",
      "enter email= rekha123@gmail.com\n",
      "enter mobile no = 1234567672\n"
     ]
    },
    {
     "name": "stdout",
     "output_type": "stream",
     "text": [
      "contact name Rekha Patil has been created successfully!\n",
      "/n contact book app\n",
      "1.1.create contact\n",
      "2.2.view contact\n",
      "3.3.update contact\n",
      "4.4.delete contact\n",
      "5.5.search contact\n",
      "6.6.count contact\n",
      "7.7.exit\n"
     ]
    },
    {
     "name": "stdin",
     "output_type": "stream",
     "text": [
      "enter your choice 1.1\n",
      "enter your name= Rajendra Ptil\n",
      "enter address= Goa\n",
      "enter email= raj123@gmail.com\n",
      "enter mobile no = 6549821805\n"
     ]
    },
    {
     "name": "stdout",
     "output_type": "stream",
     "text": [
      "contact name Rajendra Ptil has been created successfully!\n",
      "/n contact book app\n",
      "1.1.create contact\n",
      "2.2.view contact\n",
      "3.3.update contact\n",
      "4.4.delete contact\n",
      "5.5.search contact\n",
      "6.6.count contact\n",
      "7.7.exit\n"
     ]
    },
    {
     "name": "stdin",
     "output_type": "stream",
     "text": [
      "enter your choice 2.2\n",
      "enter contact name to view = Rutuja Patil\n"
     ]
    },
    {
     "name": "stdout",
     "output_type": "stream",
     "text": [
      "Name;Rutuja Patil,address:Goa,Mobile no:6549821805\n",
      "/n contact book app\n",
      "1.1.create contact\n",
      "2.2.view contact\n",
      "3.3.update contact\n",
      "4.4.delete contact\n",
      "5.5.search contact\n",
      "6.6.count contact\n",
      "7.7.exit\n"
     ]
    },
    {
     "name": "stdin",
     "output_type": "stream",
     "text": [
      "enter your choice 3.3\n",
      "enter name to update contact= Rutuja Patil\n"
     ]
    },
    {
     "name": "stdout",
     "output_type": "stream",
     "text": [
      "contact not found!\n",
      "/n contact book app\n",
      "1.1.create contact\n",
      "2.2.view contact\n",
      "3.3.update contact\n",
      "4.4.delete contact\n",
      "5.5.search contact\n",
      "6.6.count contact\n",
      "7.7.exit\n"
     ]
    },
    {
     "name": "stdin",
     "output_type": "stream",
     "text": [
      "enter your choice 4.4\n",
      "enter contact name to delete=  Sarthak Patil\n"
     ]
    },
    {
     "name": "stdout",
     "output_type": "stream",
     "text": [
      "contact not found\n",
      "/n contact book app\n",
      "1.1.create contact\n",
      "2.2.view contact\n",
      "3.3.update contact\n",
      "4.4.delete contact\n",
      "5.5.search contact\n",
      "6.6.count contact\n",
      "7.7.exit\n"
     ]
    },
    {
     "name": "stdin",
     "output_type": "stream",
     "text": [
      "enter your choice 5.5\n",
      "enter contact name to search= Rekha Patil\n"
     ]
    },
    {
     "name": "stdout",
     "output_type": "stream",
     "text": [
      "no contact found with that name\n",
      "no contact found with that name\n",
      "no contact found with that name\n",
      "/n contact book app\n",
      "1.1.create contact\n",
      "2.2.view contact\n",
      "3.3.update contact\n",
      "4.4.delete contact\n",
      "5.5.search contact\n",
      "6.6.count contact\n",
      "7.7.exit\n"
     ]
    },
    {
     "name": "stdin",
     "output_type": "stream",
     "text": [
      "enter your choice 7.7\n"
     ]
    },
    {
     "name": "stdout",
     "output_type": "stream",
     "text": [
      "Good bye...Closing the program\n"
     ]
    }
   ],
   "source": [
    "# empty dictionary\n",
    "contacts={}\n",
    "while True:\n",
    "\n",
    "     \n",
    "    print('/n contact book app')\n",
    "    print('1.1.create contact')\n",
    "    print('2.2.view contact')\n",
    "    print('3.3.update contact')\n",
    "    print('4.4.delete contact')\n",
    "    print('5.5.search contact')\n",
    "    print('6.6.count contact')\n",
    "    print('7.7.exit')\n",
    "\n",
    "    choice = input('enter your choice')\n",
    "\n",
    "    if choice =='1.1':\n",
    "        name=input('enter your name=')\n",
    "        if name in contacts:\n",
    "            print(f'contact name{name}already exists!')\n",
    "        else:\n",
    "            address=input('enter address=')\n",
    "            email=input('enter email=')\n",
    "            mobile=input('enter mobile no =')\n",
    "            contacts[name]={'address':(address),'email':email,'mobile':mobile}\n",
    "            print(f'contact name {name} has been created successfully!')\n",
    "    elif choice=='2.2':\n",
    "         name=input('enter contact name to view =')\n",
    "         if name in contacts:\n",
    "            contacts=contacts[name]\n",
    "            print(f'Name;{name},address:{address},Mobile no:{mobile}')\n",
    "         else:\n",
    "             print('contact not found!')\n",
    "\n",
    "    elif choice=='3.3':\n",
    "         name=input('enter name to update contact=')\n",
    "         if name in contacts:\n",
    "            address=input('enter updated address=')\n",
    "            email=input('enter updated email=')\n",
    "            mobile=input('enter updtad mobile no=')\n",
    "            contacts[name]={'address':varchar(address),'email':email,'mobile':mobile}\n",
    "         else:\n",
    "            print('contact not found!')\n",
    "\n",
    "    elif choice=='4.4':\n",
    "        name=input('enter contact name to delete= ')\n",
    "        if name in contacts:\n",
    "           del contacts[name]\n",
    "           print(f'contact name{name}has been deleted sucessfully!')\n",
    "        else:\n",
    "            print('contact not found')\n",
    "\n",
    "    elif choice=='5.5':\n",
    "        search_name =input('enter contact name to search=')\n",
    "        found=False\n",
    "        for name,contact in contacts.items():\n",
    "            if search_name.lower() in name.lower():\n",
    "                print(f'found-Name{name},Address:{address},Mobile no:{mobile},Email:{email}')\n",
    "                found=True\n",
    "            if not found:\n",
    "             print('no contact found with that name')\n",
    "\n",
    "    elif choice=='6.6':\n",
    "          print(f'total contacts in your book :{len(contacts)}')\n",
    "\n",
    "    elif choice=='7.7':\n",
    "        print('Good bye...Closing the program')\n",
    "        break\n",
    "\n",
    "    else:\n",
    "             print('Invalid input')"
   ]
  },
  {
   "cell_type": "code",
   "execution_count": null,
   "id": "bd166179-083c-4ffb-9181-fcb55daea4ef",
   "metadata": {},
   "outputs": [],
   "source": []
  }
 ],
 "metadata": {
  "kernelspec": {
   "display_name": "Python 3 (ipykernel)",
   "language": "python",
   "name": "python3"
  },
  "language_info": {
   "codemirror_mode": {
    "name": "ipython",
    "version": 3
   },
   "file_extension": ".py",
   "mimetype": "text/x-python",
   "name": "python",
   "nbconvert_exporter": "python",
   "pygments_lexer": "ipython3",
   "version": "3.12.4"
  }
 },
 "nbformat": 4,
 "nbformat_minor": 5
}
