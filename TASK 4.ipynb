{
 "cells": [
  {
   "cell_type": "markdown",
   "id": "a89f6324-4413-48ca-a10c-482705d75bc1",
   "metadata": {},
   "source": [
    "# ROCK, PAPER, SCISSOR"
   ]
  },
  {
   "cell_type": "code",
   "execution_count": 4,
   "id": "258422e8-37b1-4a32-88b8-2b7cfaa387b6",
   "metadata": {},
   "outputs": [
    {
     "data": {
      "text/plain": [
       "'\\nWORKFLOW OF PROJECT:\\n1- Input from user(Rock, paper, scissor)\\n2- Computer choice ( comp will choose randomly not conditionally)\\n3- Result print\\n\\nCases:\\nA-Rock\\nRock-Rock==tie\\nRock-Paper==paper win\\nRock-Scissor==Rock win\\n\\nB-Scissor\\nScissor-Scissor=tie\\nScissor-Rock=Rock win\\nScissor-paper=Scissor win\\n\\nC-Paper\\nPaper-Paper=tie\\nPaper-Rock=Paper win\\nPaper-Scissor=Scissor win\\n\\n'"
      ]
     },
     "execution_count": 4,
     "metadata": {},
     "output_type": "execute_result"
    }
   ],
   "source": [
    " \"\"\"\n",
    "WORKFLOW OF PROJECT:\n",
    "1- Input from user(Rock, paper, scissor)\n",
    "2- Computer choice ( comp will choose randomly not conditionally)\n",
    "3- Result print\n",
    "\n",
    "Cases:\n",
    "A-Rock\n",
    "Rock-Rock==tie\n",
    "Rock-Paper==paper win\n",
    "Rock-Scissor==Rock win\n",
    "\n",
    "B-Scissor\n",
    "Scissor-Scissor=tie\n",
    "Scissor-Rock=Rock win\n",
    "Scissor-paper=Scissor win\n",
    "\n",
    "C-Paper\n",
    "Paper-Paper=tie\n",
    "Paper-Rock=Paper win\n",
    "Paper-Scissor=Scissor win\n",
    "\n",
    "\"\"\"\n"
   ]
  },
  {
   "cell_type": "code",
   "execution_count": 21,
   "id": "283ce086-b604-4c25-8aac-eb593387b629",
   "metadata": {},
   "outputs": [
    {
     "name": "stdout",
     "output_type": "stream",
     "text": [
      "Winning rules of the game ROCK PAPER SCISSORS are:\n",
      "Rock vs Paper -> Paper wins \n",
      "Rock vs Scissors -> Rock wins \n",
      "Paper vs Scissors -> Scissors wins \n",
      "\n",
      "Enter your choice \n",
      " 10 - Scissors \n",
      " 20 - Rock \n",
      " 30 - Paper \n",
      "\n"
     ]
    },
    {
     "name": "stdin",
     "output_type": "stream",
     "text": [
      "Enter your choice:  10\n"
     ]
    },
    {
     "name": "stdout",
     "output_type": "stream",
     "text": [
      "User choice is: Scissors\n",
      "Now it's Computer's Turn...\n",
      "Computer choice is: Scissors\n",
      "Scissors vs Scissors\n",
      "<== It's a tie !==>\n",
      "Do you want to play again? (Y/N) ==\n"
     ]
    },
    {
     "name": "stdin",
     "output_type": "stream",
     "text": [
      " y\n"
     ]
    },
    {
     "name": "stdout",
     "output_type": "stream",
     "text": [
      "Enter your choice \n",
      " 10 - Scissors \n",
      " 20 - Rock \n",
      " 30 - Paper \n",
      "\n"
     ]
    },
    {
     "name": "stdin",
     "output_type": "stream",
     "text": [
      "Enter your choice:  20\n"
     ]
    },
    {
     "name": "stdout",
     "output_type": "stream",
     "text": [
      "User choice is: Rock\n",
      "Now it's Computer's Turn...\n",
      "Computer choice is: Paper\n",
      "Rock vs Paper\n",
      "<== It's a tie !==>\n",
      "Do you want to play again? (Y/N) ==\n"
     ]
    },
    {
     "name": "stdin",
     "output_type": "stream",
     "text": [
      " y\n"
     ]
    },
    {
     "name": "stdout",
     "output_type": "stream",
     "text": [
      "Enter your choice \n",
      " 10 - Scissors \n",
      " 20 - Rock \n",
      " 30 - Paper \n",
      "\n"
     ]
    },
    {
     "name": "stdin",
     "output_type": "stream",
     "text": [
      "Enter your choice:  30\n"
     ]
    },
    {
     "name": "stdout",
     "output_type": "stream",
     "text": [
      "User choice is: Paper\n",
      "Now it's Computer's Turn...\n",
      "Computer choice is: Rock\n",
      "Paper vs Rock\n",
      "<== user wins!>\n",
      "Do you want to play again? (Y/N) ==\n"
     ]
    },
    {
     "name": "stdin",
     "output_type": "stream",
     "text": [
      " n\n"
     ]
    },
    {
     "name": "stdout",
     "output_type": "stream",
     "text": [
      "Thanks for playing!\n"
     ]
    }
   ],
   "source": [
    "import random\n",
    "\n",
    "# Print multiline instruction\n",
    "print('Winning rules of the game ROCK PAPER SCISSORS are:\\n'\n",
    "      + \"Rock vs Paper -> Paper wins \\n\"\n",
    "      + \"Rock vs Scissors -> Rock wins \\n\"\n",
    "      + \"Paper vs Scissors -> Scissors wins \\n\")\n",
    "\n",
    "while True:\n",
    "\n",
    "    print(\"Enter your choice \\n 10 - Scissors \\n 20 - Rock \\n 30 - Paper \\n\")\n",
    "\n",
    "    ## Take the input from user\n",
    "    choice = int(input(\"Enter your choice: \"))\n",
    "\n",
    "    ##Looping until user enters valid input\n",
    "    while choice > 30 or choice < 10:\n",
    "        choice = int(input('Enter a valid choice please ☺: '))\n",
    "\n",
    "    ## Initialize value of choice_name variable corresponding to the choice value\n",
    "    if choice == 10:\n",
    "        choice_name = 'Scissors'\n",
    "    elif choice == 20:\n",
    "        choice_name = 'Rock'\n",
    "    else:\n",
    "        choice_name = 'Paper'\n",
    "\n",
    "    # Print user choice\n",
    "    print('User choice is:', choice_name)\n",
    "    print(\"Now it's Computer's Turn...\")\n",
    "\n",
    "    # Computer chooses randomly any number among 10, 20, and 30\n",
    "    comp_choice = random.randint(10, 30)\n",
    "\n",
    "    # Initialize value of comp_choice_name variable corresponding to the choice value\n",
    "    if comp_choice == 10:\n",
    "        comp_choice_name = 'Scissors'\n",
    "    elif comp_choice == 20:\n",
    "        comp_choice_name = 'Rock'\n",
    "    else:\n",
    "        comp_choice_name = 'Paper'\n",
    "\n",
    "    print(\"Computer choice is:\", comp_choice_name)\n",
    "    print(choice_name, 'vs', comp_choice_name)\n",
    "\n",
    "    # Determine the winner\n",
    "    if choice == comp_choice:\n",
    "        result = \"DRAW\"\n",
    "    elif (choice == 10 and comp_choice == 20) or (comp_choice == 10 and choice == 20):\n",
    "        result = 'Rock'\n",
    "    elif (choice == 10 and comp_choice == 30) or (comp_choice == 10 and choice == 30):\n",
    "        result = 'Scissors'\n",
    "    elif (choice == 20 and comp_choice == 30) or (comp_choice == 20 and choice == 30):\n",
    "        result = 'Paper'\n",
    "\n",
    " # Print the result\n",
    "    if result ==\"DRAW\":\n",
    "        print(\"<== It's a tie !==>\")\n",
    "    elif result == choice_name:\n",
    "        print(\"<== user wins!>\")\n",
    "    else:\n",
    "        print(\"<== Computer wins! ==>\")\n",
    "\n",
    "    \n",
    "    # Ask if the user wants to play again\n",
    "    print(\"Do you want to play again? (Y/N) ==\")\n",
    "    ans = input().lower()\n",
    "    if ans == 'n':\n",
    "        break\n",
    "\n",
    "# After coming out of the while loop, print thanks for playing\n",
    "print(\"Thanks for playing!\")    "
   ]
  },
  {
   "cell_type": "code",
   "execution_count": null,
   "id": "b012834e-c328-4f97-a703-aeed942a7f9e",
   "metadata": {},
   "outputs": [],
   "source": []
  }
 ],
 "metadata": {
  "kernelspec": {
   "display_name": "Python 3 (ipykernel)",
   "language": "python",
   "name": "python3"
  },
  "language_info": {
   "codemirror_mode": {
    "name": "ipython",
    "version": 3
   },
   "file_extension": ".py",
   "mimetype": "text/x-python",
   "name": "python",
   "nbconvert_exporter": "python",
   "pygments_lexer": "ipython3",
   "version": "3.12.4"
  }
 },
 "nbformat": 4,
 "nbformat_minor": 5
}
