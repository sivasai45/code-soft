{
 "cells": [
  {
   "cell_type": "markdown",
   "id": "fe956fd6-295f-4f62-acfc-8081c9aecb9d",
   "metadata": {},
   "source": [
    "# TO DO LIST"
   ]
  },
  {
   "cell_type": "code",
   "execution_count": null,
   "id": "de2766e7-3465-419e-8d05-8e0d937c772c",
   "metadata": {},
   "outputs": [
    {
     "name": "stdout",
     "output_type": "stream",
     "text": [
      "----WELCOME TO THE TASK MANAGEMENT APP----\n"
     ]
    },
    {
     "name": "stdin",
     "output_type": "stream",
     "text": [
      "Enter how many tasks you want to add =  1\n",
      "Enter task 1 =  yoga\n"
     ]
    },
    {
     "name": "stdout",
     "output_type": "stream",
     "text": [
      "Today's tasks are\n",
      "['yoga']\n"
     ]
    },
    {
     "name": "stdin",
     "output_type": "stream",
     "text": [
      "Enter \n",
      "1-Add\n",
      "2-Update\n",
      "3-Delete\n",
      "4-View\n",
      "5-Exit/Stop\n",
      " 1\n",
      "Enter task you want to add =  study\n"
     ]
    },
    {
     "name": "stdout",
     "output_type": "stream",
     "text": [
      "Task 'study' has been successfully added.\n"
     ]
    },
    {
     "name": "stdin",
     "output_type": "stream",
     "text": [
      "Enter \n",
      "1-Add\n",
      "2-Update\n",
      "3-Delete\n",
      "4-View\n",
      "5-Exit/Stop\n",
      " 1\n",
      "Enter task you want to add =  lunch\n"
     ]
    },
    {
     "name": "stdout",
     "output_type": "stream",
     "text": [
      "Task 'lunch' has been successfully added.\n"
     ]
    },
    {
     "name": "stdin",
     "output_type": "stream",
     "text": [
      "Enter \n",
      "1-Add\n",
      "2-Update\n",
      "3-Delete\n",
      "4-View\n",
      "5-Exit/Stop\n",
      " 2\n",
      "Enter the task name you want to update =  yoga\n",
      "Enter new task =  gym\n"
     ]
    },
    {
     "name": "stdout",
     "output_type": "stream",
     "text": [
      "Updated task 'yoga' to 'gym'.\n"
     ]
    }
   ],
   "source": [
    "def task():\n",
    "\n",
    "    tasks = []  # Initialize an empty list to store tasks\n",
    "\n",
    "    print(\"----WELCOME TO THE TASK MANAGEMENT APP----\")\n",
    "\n",
    "    total_task = int(input(\"Enter how many tasks you want to add = \"))\n",
    "\n",
    "    for i in range(1, total_task + 1):\n",
    "\n",
    "        task_name = input(f\"Enter task {i} = \")\n",
    "\n",
    "        tasks.append(task_name)\n",
    "\n",
    "    print(f\"Today's tasks are\\n{tasks}\")\n",
    "\n",
    "   \n",
    "\n",
    "    while True:\n",
    "\n",
    "        try:\n",
    "\n",
    "            operation = int(input(\"Enter \\n1-Add\\n2-Update\\n3-Delete\\n4-View\\n5-Exit/Stop\\n\"))\n",
    "\n",
    "            if operation == 1:\n",
    "\n",
    "                add = input(\"Enter task you want to add = \")\n",
    "\n",
    "                tasks.append(add)\n",
    "\n",
    "                print(f\"Task '{add}' has been successfully added.\")\n",
    "\n",
    "            elif operation == 2:\n",
    "\n",
    "                updated_val = input(\"Enter the task name you want to update = \")\n",
    "\n",
    "                if updated_val in tasks:\n",
    "\n",
    "                    up = input(\"Enter new task = \")\n",
    "\n",
    "                    ind = tasks.index(updated_val)\n",
    "\n",
    "                    tasks[ind] = up\n",
    "\n",
    "                    print(f\"Updated task '{updated_val}' to '{up}'.\")\n",
    "\n",
    "                else:\n",
    "\n",
    "                    print(\"Task not found.\")\n",
    "\n",
    "            elif operation == 3:\n",
    "\n",
    "                del_val = input(\"Which task you want to delete = \")\n",
    "\n",
    "                if del_val in tasks:\n",
    "\n",
    "                    ind = tasks.index(del_val)\n",
    "\n",
    "                    del tasks[ind]\n",
    "\n",
    "                    print(f\"Task '{del_val}' has been deleted.\")\n",
    "\n",
    "                else:\n",
    "\n",
    "                    print(\"Task not found.\")\n",
    "\n",
    "            elif operation == 4:\n",
    "\n",
    "                print(f\"Total tasks = {tasks}\")\n",
    "\n",
    "            elif operation == 5:\n",
    "\n",
    "                print(\"Closing the program....\")\n",
    "\n",
    "                break\n",
    "\n",
    "            else:\n",
    "\n",
    "                print(\"Invalid Input. Please enter a number from 1 to 5.\")\n",
    "\n",
    "        except ValueError:\n",
    "\n",
    "            print(\"Invalid Input. Please enter a valid number.\")\n",
    "\n",
    "\n",
    "task()"
   ]
  },
  {
   "cell_type": "code",
   "execution_count": null,
   "id": "2d121326-c969-4284-bbcd-296fbabfc9a1",
   "metadata": {},
   "outputs": [],
   "source": []
  }
 ],
 "metadata": {
  "kernelspec": {
   "display_name": "Python 3 (ipykernel)",
   "language": "python",
   "name": "python3"
  },
  "language_info": {
   "codemirror_mode": {
    "name": "ipython",
    "version": 3
   },
   "file_extension": ".py",
   "mimetype": "text/x-python",
   "name": "python",
   "nbconvert_exporter": "python",
   "pygments_lexer": "ipython3",
   "version": "3.12.4"
  }
 },
 "nbformat": 4,
 "nbformat_minor": 5
}
