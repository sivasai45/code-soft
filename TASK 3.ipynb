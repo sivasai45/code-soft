{
 "cells": [
  {
   "cell_type": "markdown",
   "id": "506f5493-4ab0-4682-b746-f71b04de0580",
   "metadata": {},
   "source": [
    "# PASSWORD GENERATOR"
   ]
  },
  {
   "cell_type": "code",
   "execution_count": 3,
   "id": "308bf810-b29f-4810-994f-5fd176f9b2a6",
   "metadata": {},
   "outputs": [
    {
     "name": "stdin",
     "output_type": "stream",
     "text": [
      "Enter the length of password alphanumeric 12\n"
     ]
    },
    {
     "name": "stdout",
     "output_type": "stream",
     "text": [
      "LXqSaQs{pjMN\n"
     ]
    }
   ],
   "source": [
    "import string\n",
    "import random\n",
    "R1=string.ascii_lowercase\n",
    "R2=string.ascii_uppercase\n",
    "R3=string.digits\n",
    "R4=string.punctuation\n",
    "\n",
    "#user input\n",
    "password_length=int(input(\"Enter the length of password alphanumeric\"))\n",
    "\n",
    "\n",
    "#Generate a password\n",
    "R=[]\n",
    "R.extend(list(R1))\n",
    "R.extend(list(R2))\n",
    "R.extend(list(R3))\n",
    "R.extend(list(R4))\n",
    "random.shuffle(R)\n",
    "#Display the password\n",
    "print(\"\".join(R[0:password_length]))"
   ]
  },
  {
   "cell_type": "code",
   "execution_count": null,
   "id": "bc2d87a8-f3f9-42a1-a27f-ace74c922e1a",
   "metadata": {},
   "outputs": [],
   "source": []
  }
 ],
 "metadata": {
  "kernelspec": {
   "display_name": "Python 3 (ipykernel)",
   "language": "python",
   "name": "python3"
  },
  "language_info": {
   "codemirror_mode": {
    "name": "ipython",
    "version": 3
   },
   "file_extension": ".py",
   "mimetype": "text/x-python",
   "name": "python",
   "nbconvert_exporter": "python",
   "pygments_lexer": "ipython3",
   "version": "3.12.4"
  }
 },
 "nbformat": 4,
 "nbformat_minor": 5
}
